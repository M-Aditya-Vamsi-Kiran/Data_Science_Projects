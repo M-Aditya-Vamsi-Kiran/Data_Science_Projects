{
 "cells": [
  {
   "cell_type": "markdown",
   "metadata": {},
   "source": [
    "## Who could replace Messi"
   ]
  },
  {
   "cell_type": "markdown",
   "metadata": {},
   "source": [
    "**W**ith the modernisation and globalisation of football and the football club economy, scouting has grown in stature and importance. Competition to search for young talents is extremely keen. Although it is difficult to quantify the prevalence of scouting in modern football, circumstantial evidence of its magnitude is readily available.\n",
    "\n",
    "The importance of scouting offers football clubs with several distinct advantages:\n",
    "\n",
    "* **Global reach**: Scouting allows clubs to cast the largest possible net to find players from all around the world.\n",
    "* **Cheap players**: Players from lower leagues can be available at cheaper transfer prices, and command smaller wages.\n",
    "\n",
    "Source : [Wiki](https://en.wikipedia.org/wiki/Scout_(association_football)"
   ]
  },
  {
   "cell_type": "markdown",
   "metadata": {
    "_cell_guid": "5afac8c3-9ba3-4f72-9168-1bb11a7bef97",
    "_uuid": "58620378d892b5a843bee3a67fdb922d75d0684d"
   },
   "source": [
    "In this, We will identify the players who are below 25(including 25) and could be next generation superstars.\n",
    "The idea is to look at attributes like Marking, Passing, Shot power etc. of all the players. Then we will look at top 10 players who are **similar** to Messi. "
   ]
  },
  {
   "cell_type": "code",
   "execution_count": 4,
   "metadata": {},
   "outputs": [],
   "source": [
    "#Loading Data\n",
    "import pandas as pd\n",
    "import numpy as np\n",
    "import matplotlib.pyplot as plt\n",
    "%matplotlib inline\n",
    "fifa_data = pd.read_csv(\"Data/FullData.csv\")"
   ]
  },
  {
   "cell_type": "markdown",
   "metadata": {},
   "source": [
    "#### Looking at Age distribution of players."
   ]
  },
  {
   "cell_type": "code",
   "execution_count": 5,
   "metadata": {},
   "outputs": [
    {
     "data": {
      "text/plain": [
       "<matplotlib.axes._subplots.AxesSubplot at 0x243524e7e80>"
      ]
     },
     "execution_count": 5,
     "metadata": {},
     "output_type": "execute_result"
    },
    {
     "data": {
      "image/png": "[encoded data removed]",
      "text/plain": [
       "<Figure size 864x432 with 1 Axes>"
      ]
     },
     "metadata": {},
     "output_type": "display_data"
    }
   ],
   "source": [
    "\n",
    "bin_values = np.arange(start=5, stop=55, step=5)\n",
    "fifa_data['Age'].plot(kind='hist', bins=bin_values, figsize=[12, 6], alpha=.4, legend=True)  # alpha for transparency\n"
   ]
  },
  {
   "cell_type": "markdown",
   "metadata": {},
   "source": [
    "Maximum players are in the age group 20-30 which is intuitive."
   ]
  },
  {
   "cell_type": "code",
   "execution_count": 6,
   "metadata": {
    "scrolled": true
   },
   "outputs": [
    {
     "name": "stdout",
     "output_type": "stream",
     "text": [
      "There are 9480 players who are equal to or under 25 \n"
     ]
    }
   ],
   "source": [
    "age_25 = fifa_data['Age'] <=25\n",
    "fifa_data_25 = fifa_data[age_25]\n",
    "print(\"There are %d players who are equal to or under 25 \" %fifa_data_25.shape[0])  # Number of players who are under 25"
   ]
  },
  {
   "cell_type": "markdown",
   "metadata": {},
   "source": [
    "Selecting all the attributes from the original data and creating separate dataset. We will be needing row number of the player who is acting as reference. For example Cristiano Ronaldo is Row 0, Lionel Messi is Row 1 and so on. "
   ]
  },
  {
   "cell_type": "code",
   "execution_count": 7,
   "metadata": {},
   "outputs": [
    {
     "name": "stdout",
     "output_type": "stream",
     "text": [
      "                    Name           Club Nationality\n",
      "1           Lionel Messi   FC Barcelona   Argentina\n",
      "11719  Nicolás Messiniti  Independiente   Argentina\n"
     ]
    }
   ],
   "source": [
    "x_cols = ['Name','Weak_foot', 'Skill_Moves','Ball_Control', 'Dribbling', 'Marking', 'Sliding_Tackle','Standing_Tackle', 'Aggression', 'Reactions', 'Attacking_Position',\n",
    "       'Interceptions', 'Vision', 'Composure', 'Crossing', 'Short_Pass','Long_Pass', 'Acceleration', 'Speed', 'Stamina', 'Strength', 'Balance',\n",
    "       'Agility', 'Jumping', 'Heading', 'Shot_Power', 'Finishing','Long_Shots', 'Curve', 'Freekick_Accuracy', 'Penalties', 'Volleys']\n",
    "\n",
    "from sklearn.metrics.pairwise import euclidean_distances\n",
    "X= fifa_data_25[x_cols]\n",
    "print(fifa_data[['Name','Club','Nationality']][fifa_data['Name'].str.contains(\"Messi\")])\n",
    "X2 = pd.DataFrame(fifa_data.loc[1,x_cols] .values.reshape(1,32)) \n",
    "# Substitute fifa_data.loc[row#,x_cols] "
   ]
  },
  {
   "cell_type": "markdown",
   "metadata": {},
   "source": [
    "####  Using Euclidean distance between Messi & other players we will see the top 10 players who are similar to him. "
   ]
  },
  {
   "cell_type": "code",
   "execution_count": 8,
   "metadata": {
    "scrolled": true
   },
   "outputs": [
    {
     "name": "stdout",
     "output_type": "stream",
     "text": [
      "Top 10 players who have similar attributes as Messi are below\n"
     ]
    },
    {
     "data": {
      "text/plain": [
       "2                   Neymar\n",
       "52                Coutinho\n",
       "130         Julian Draxler\n",
       "66     Alexandre Lacazette\n",
       "91         Lorenzo Insigne\n",
       "298          Quincy Promes\n",
       "86        Yannick Carrasco\n",
       "593          Heung Min Son\n",
       "621            Adem Ljajić\n",
       "34         James Rodríguez\n",
       "Name: Name, dtype: object"
      ]
     },
     "execution_count": 8,
     "metadata": {},
     "output_type": "execute_result"
    }
   ],
   "source": [
    "top_10 = euclidean_distances(X.iloc[:,1:], X2.iloc[:,1:])\n",
    "\n",
    "top_10_df = pd.DataFrame(top_10)\n",
    "top_10_df = top_10_df.sort_values([0])\n",
    "\n",
    "print(\"Top 10 players who have similar attributes as Messi are below\")\n",
    "X.iloc[top_10_df.index.values[1:11],0]"
   ]
  },
  {
   "cell_type": "markdown",
   "metadata": {},
   "source": [
    "One of the primary tasks of a scout is to identify players who are talented and can be attained for a cheaper price. Paulo Dybala is already termed as \"Next Messi\".Neymar & Coutinho are quite popular, I must say. This kind of explains why Barcelona didn't want to lose Neymar and the Coutinho-saga.Yannick Carrasco and Quincy Promes are not popular. \n",
    "I have not heard of them before this analysis. Now, if the statistics are saying they are similar to Messi, may be the clubs can take a shot or scout further before making a bid for them. Who knows they can be \"Next Messi\".\n",
    "**Only  time can tell.**"
   ]
  }
 ],
 "metadata": {
  "kernelspec": {
   "display_name": "Python 3",
   "language": "python",
   "name": "python3"
  },
  "language_info": {
   "codemirror_mode": {
    "name": "ipython",
    "version": 3
   },
   "file_extension": ".py",
   "mimetype": "text/x-python",
   "name": "python",
   "nbconvert_exporter": "python",
   "pygments_lexer": "ipython3",
   "version": "3.6.5"
  }
 },
 "nbformat": 4,
 "nbformat_minor": 1
}
